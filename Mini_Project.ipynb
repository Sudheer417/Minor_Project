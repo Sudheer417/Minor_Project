{
  "nbformat": 4,
  "nbformat_minor": 0,
  "metadata": {
    "colab": {
      "name": "Mini Project.ipynb",
      "provenance": [],
      "collapsed_sections": [],
      "authorship_tag": "ABX9TyN8le7lcRmeqRcZrbok2FWX",
      "include_colab_link": true
    },
    "kernelspec": {
      "name": "python3",
      "display_name": "Python 3"
    }
  },
  "cells": [
    {
      "cell_type": "markdown",
      "metadata": {
        "id": "view-in-github",
        "colab_type": "text"
      },
      "source": [
        "<a href=\"https://colab.research.google.com/github/Sudheer417/Minor_Project/blob/master/Mini_Project.ipynb\" target=\"_parent\"><img src=\"https://colab.research.google.com/assets/colab-badge.svg\" alt=\"Open In Colab\"/></a>"
      ]
    },
    {
      "cell_type": "markdown",
      "metadata": {
        "id": "BY-WWBDoC7v8",
        "colab_type": "text"
      },
      "source": [
        "**Aim of the project:**"
      ]
    },
    {
      "cell_type": "markdown",
      "metadata": {
        "id": "wchgkHdYDrcD",
        "colab_type": "text"
      },
      "source": [
        "Based on given input age and Estimated Salary, The model need to say whether the customer will purchase the product or not..."
      ]
    },
    {
      "cell_type": "markdown",
      "metadata": {
        "id": "8gdRNWlXD5DH",
        "colab_type": "text"
      },
      "source": [
        "**Algorithm used for this project : K- Nearest Neighbors**"
      ]
    },
    {
      "cell_type": "code",
      "metadata": {
        "id": "AcvIKR2t7esf",
        "colab_type": "code",
        "colab": {}
      },
      "source": [
        "# K-Nearest Neighbors (KNN)"
      ],
      "execution_count": null,
      "outputs": []
    },
    {
      "cell_type": "code",
      "metadata": {
        "id": "usx4H0T09qPS",
        "colab_type": "code",
        "colab": {
          "base_uri": "https://localhost:8080/",
          "height": 74
        },
        "outputId": "4ceb731e-f60a-4d14-fc0d-fdcb7a31670d"
      },
      "source": [
        "#Importing the Libraries\n",
        "import numpy as np\n",
        "import matplotlib.pyplot as plt\n",
        "import pandas as pd\n",
        "import seaborn as sns"
      ],
      "execution_count": null,
      "outputs": [
        {
          "output_type": "stream",
          "text": [
            "/usr/local/lib/python3.6/dist-packages/statsmodels/tools/_testing.py:19: FutureWarning: pandas.util.testing is deprecated. Use the functions in the public API at pandas.testing instead.\n",
            "  import pandas.util.testing as tm\n"
          ],
          "name": "stderr"
        }
      ]
    },
    {
      "cell_type": "code",
      "metadata": {
        "id": "05pLLf8R9yyV",
        "colab_type": "code",
        "colab": {
          "base_uri": "https://localhost:8080/",
          "height": 206
        },
        "outputId": "15bcd2d6-afd7-4c3d-e81a-896877969b6d"
      },
      "source": [
        "# Importing the dataset \n",
        "df = pd.read_csv('Social_Network_Ads.csv')\n",
        "df.head()"
      ],
      "execution_count": null,
      "outputs": [
        {
          "output_type": "execute_result",
          "data": {
            "text/html": [
              "<div>\n",
              "<style scoped>\n",
              "    .dataframe tbody tr th:only-of-type {\n",
              "        vertical-align: middle;\n",
              "    }\n",
              "\n",
              "    .dataframe tbody tr th {\n",
              "        vertical-align: top;\n",
              "    }\n",
              "\n",
              "    .dataframe thead th {\n",
              "        text-align: right;\n",
              "    }\n",
              "</style>\n",
              "<table border=\"1\" class=\"dataframe\">\n",
              "  <thead>\n",
              "    <tr style=\"text-align: right;\">\n",
              "      <th></th>\n",
              "      <th>User ID</th>\n",
              "      <th>Gender</th>\n",
              "      <th>Age</th>\n",
              "      <th>EstimatedSalary</th>\n",
              "      <th>Purchased</th>\n",
              "    </tr>\n",
              "  </thead>\n",
              "  <tbody>\n",
              "    <tr>\n",
              "      <th>0</th>\n",
              "      <td>15624510</td>\n",
              "      <td>Male</td>\n",
              "      <td>19</td>\n",
              "      <td>19000</td>\n",
              "      <td>0</td>\n",
              "    </tr>\n",
              "    <tr>\n",
              "      <th>1</th>\n",
              "      <td>15810944</td>\n",
              "      <td>Male</td>\n",
              "      <td>35</td>\n",
              "      <td>20000</td>\n",
              "      <td>0</td>\n",
              "    </tr>\n",
              "    <tr>\n",
              "      <th>2</th>\n",
              "      <td>15668575</td>\n",
              "      <td>Female</td>\n",
              "      <td>26</td>\n",
              "      <td>43000</td>\n",
              "      <td>0</td>\n",
              "    </tr>\n",
              "    <tr>\n",
              "      <th>3</th>\n",
              "      <td>15603246</td>\n",
              "      <td>Female</td>\n",
              "      <td>27</td>\n",
              "      <td>57000</td>\n",
              "      <td>0</td>\n",
              "    </tr>\n",
              "    <tr>\n",
              "      <th>4</th>\n",
              "      <td>15804002</td>\n",
              "      <td>Male</td>\n",
              "      <td>19</td>\n",
              "      <td>76000</td>\n",
              "      <td>0</td>\n",
              "    </tr>\n",
              "  </tbody>\n",
              "</table>\n",
              "</div>"
            ],
            "text/plain": [
              "    User ID  Gender  Age  EstimatedSalary  Purchased\n",
              "0  15624510    Male   19            19000          0\n",
              "1  15810944    Male   35            20000          0\n",
              "2  15668575  Female   26            43000          0\n",
              "3  15603246  Female   27            57000          0\n",
              "4  15804002    Male   19            76000          0"
            ]
          },
          "metadata": {
            "tags": []
          },
          "execution_count": 5
        }
      ]
    },
    {
      "cell_type": "code",
      "metadata": {
        "id": "iwbDnmc4CTnY",
        "colab_type": "code",
        "colab": {
          "base_uri": "https://localhost:8080/",
          "height": 206
        },
        "outputId": "047083b4-173a-4658-d8b1-e4862a68087d"
      },
      "source": [
        "df.tail()"
      ],
      "execution_count": null,
      "outputs": [
        {
          "output_type": "execute_result",
          "data": {
            "text/html": [
              "<div>\n",
              "<style scoped>\n",
              "    .dataframe tbody tr th:only-of-type {\n",
              "        vertical-align: middle;\n",
              "    }\n",
              "\n",
              "    .dataframe tbody tr th {\n",
              "        vertical-align: top;\n",
              "    }\n",
              "\n",
              "    .dataframe thead th {\n",
              "        text-align: right;\n",
              "    }\n",
              "</style>\n",
              "<table border=\"1\" class=\"dataframe\">\n",
              "  <thead>\n",
              "    <tr style=\"text-align: right;\">\n",
              "      <th></th>\n",
              "      <th>User ID</th>\n",
              "      <th>Gender</th>\n",
              "      <th>Age</th>\n",
              "      <th>EstimatedSalary</th>\n",
              "      <th>Purchased</th>\n",
              "    </tr>\n",
              "  </thead>\n",
              "  <tbody>\n",
              "    <tr>\n",
              "      <th>395</th>\n",
              "      <td>15691863</td>\n",
              "      <td>Female</td>\n",
              "      <td>46</td>\n",
              "      <td>41000</td>\n",
              "      <td>1</td>\n",
              "    </tr>\n",
              "    <tr>\n",
              "      <th>396</th>\n",
              "      <td>15706071</td>\n",
              "      <td>Male</td>\n",
              "      <td>51</td>\n",
              "      <td>23000</td>\n",
              "      <td>1</td>\n",
              "    </tr>\n",
              "    <tr>\n",
              "      <th>397</th>\n",
              "      <td>15654296</td>\n",
              "      <td>Female</td>\n",
              "      <td>50</td>\n",
              "      <td>20000</td>\n",
              "      <td>1</td>\n",
              "    </tr>\n",
              "    <tr>\n",
              "      <th>398</th>\n",
              "      <td>15755018</td>\n",
              "      <td>Male</td>\n",
              "      <td>36</td>\n",
              "      <td>33000</td>\n",
              "      <td>0</td>\n",
              "    </tr>\n",
              "    <tr>\n",
              "      <th>399</th>\n",
              "      <td>15594041</td>\n",
              "      <td>Female</td>\n",
              "      <td>49</td>\n",
              "      <td>36000</td>\n",
              "      <td>1</td>\n",
              "    </tr>\n",
              "  </tbody>\n",
              "</table>\n",
              "</div>"
            ],
            "text/plain": [
              "      User ID  Gender  Age  EstimatedSalary  Purchased\n",
              "395  15691863  Female   46            41000          1\n",
              "396  15706071    Male   51            23000          1\n",
              "397  15654296  Female   50            20000          1\n",
              "398  15755018    Male   36            33000          0\n",
              "399  15594041  Female   49            36000          1"
            ]
          },
          "metadata": {
            "tags": []
          },
          "execution_count": 6
        }
      ]
    },
    {
      "cell_type": "code",
      "metadata": {
        "id": "Kkor6O40jEfz",
        "colab_type": "code",
        "colab": {
          "base_uri": "https://localhost:8080/",
          "height": 242
        },
        "outputId": "93f7f3d2-e870-4965-fab8-1db4d140351e"
      },
      "source": [
        "df['Purchased']"
      ],
      "execution_count": null,
      "outputs": [
        {
          "output_type": "execute_result",
          "data": {
            "text/plain": [
              "0      0\n",
              "1      0\n",
              "2      0\n",
              "3      0\n",
              "4      0\n",
              "      ..\n",
              "395    1\n",
              "396    1\n",
              "397    1\n",
              "398    0\n",
              "399    1\n",
              "Name: Purchased, Length: 400, dtype: int64"
            ]
          },
          "metadata": {
            "tags": []
          },
          "execution_count": 8
        }
      ]
    },
    {
      "cell_type": "code",
      "metadata": {
        "id": "-otOjT4DjO-E",
        "colab_type": "code",
        "colab": {
          "base_uri": "https://localhost:8080/",
          "height": 54
        },
        "outputId": "cc08937c-86db-4cb0-ff0e-1623f7dde7d1"
      },
      "source": [
        "purchased_people = df['Purchased'].values \n",
        "unique,count = np.unique(purchased_people,return_counts = True)\n",
        "print(unique)\n",
        "print(count)"
      ],
      "execution_count": null,
      "outputs": [
        {
          "output_type": "stream",
          "text": [
            "[0 1]\n",
            "[257 143]\n"
          ],
          "name": "stdout"
        }
      ]
    },
    {
      "cell_type": "code",
      "metadata": {
        "id": "nwAf9kX1jidL",
        "colab_type": "code",
        "colab": {
          "base_uri": "https://localhost:8080/",
          "height": 265
        },
        "outputId": "25ffcca1-98fb-46cf-ae02-d60cc6aea087"
      },
      "source": [
        "label = ['Not Purchased','Purchased']\n",
        "plt.bar(label,count,color = ['r','g'])\n",
        "plt.show()"
      ],
      "execution_count": null,
      "outputs": [
        {
          "output_type": "display_data",
          "data": {
            "image/png": "[encoded data removed]",
            "text/plain": [
              "<Figure size 432x288 with 1 Axes>"
            ]
          },
          "metadata": {
            "tags": [],
            "needs_background": "light"
          }
        }
      ]
    },
    {
      "cell_type": "code",
      "metadata": {
        "id": "dS_pflLykI2G",
        "colab_type": "code",
        "colab": {
          "base_uri": "https://localhost:8080/",
          "height": 279
        },
        "outputId": "1e5c7167-5436-4396-e143-ea1ee7d27ea4"
      },
      "source": [
        "#2nd method\n",
        "sns.countplot(x = 'Purchased',data = df)\n",
        "plt.show()"
      ],
      "execution_count": null,
      "outputs": [
        {
          "output_type": "display_data",
          "data": {
            "image/png": "[encoded data removed]",
            "text/plain": [
              "<Figure size 432x288 with 1 Axes>"
            ]
          },
          "metadata": {
            "tags": [],
            "needs_background": "light"
          }
        }
      ]
    },
    {
      "cell_type": "code",
      "metadata": {
        "id": "P3B8Ti7r-KXD",
        "colab_type": "code",
        "colab": {
          "base_uri": "https://localhost:8080/",
          "height": 36
        },
        "outputId": "6679f712-d8ca-4232-d113-2b36c5a67f92"
      },
      "source": [
        "df.shape"
      ],
      "execution_count": null,
      "outputs": [
        {
          "output_type": "execute_result",
          "data": {
            "text/plain": [
              "(400, 5)"
            ]
          },
          "metadata": {
            "tags": []
          },
          "execution_count": 5
        }
      ]
    },
    {
      "cell_type": "code",
      "metadata": {
        "id": "K_9nIcXh-Rp3",
        "colab_type": "code",
        "colab": {}
      },
      "source": [
        "# Input and Output\n",
        "x = df.iloc[:,2:4].values\n",
        "y = df.iloc[:,4].values"
      ],
      "execution_count": null,
      "outputs": []
    },
    {
      "cell_type": "code",
      "metadata": {
        "id": "JWnE9Diu-oqq",
        "colab_type": "code",
        "colab": {
          "base_uri": "https://localhost:8080/",
          "height": 36
        },
        "outputId": "74235a36-6dad-4077-c021-e2b241b54092"
      },
      "source": [
        "x.shape"
      ],
      "execution_count": null,
      "outputs": [
        {
          "output_type": "execute_result",
          "data": {
            "text/plain": [
              "(400, 2)"
            ]
          },
          "metadata": {
            "tags": []
          },
          "execution_count": 11
        }
      ]
    },
    {
      "cell_type": "code",
      "metadata": {
        "id": "1hfGE7qr-vhn",
        "colab_type": "code",
        "colab": {}
      },
      "source": [
        "# Splitting the dataset into the Training set and Test set\n",
        "from sklearn.model_selection import train_test_split\n",
        "x_train, x_test, y_train, y_test = train_test_split(x, y, test_size = 0.25, random_state = 0)"
      ],
      "execution_count": null,
      "outputs": []
    },
    {
      "cell_type": "code",
      "metadata": {
        "id": "tmgNrNKU_Nq_",
        "colab_type": "code",
        "colab": {
          "base_uri": "https://localhost:8080/",
          "height": 36
        },
        "outputId": "333e63e1-51a5-4ce0-d6c2-7c54dfa5336f"
      },
      "source": [
        "x_train.shape"
      ],
      "execution_count": null,
      "outputs": [
        {
          "output_type": "execute_result",
          "data": {
            "text/plain": [
              "(300, 2)"
            ]
          },
          "metadata": {
            "tags": []
          },
          "execution_count": 14
        }
      ]
    },
    {
      "cell_type": "code",
      "metadata": {
        "id": "Z0ctEe51_g4j",
        "colab_type": "code",
        "colab": {
          "base_uri": "https://localhost:8080/",
          "height": 36
        },
        "outputId": "5dc11aa7-386b-4151-bf92-28143e397fcd"
      },
      "source": [
        "x_test.shape"
      ],
      "execution_count": null,
      "outputs": [
        {
          "output_type": "execute_result",
          "data": {
            "text/plain": [
              "(100, 2)"
            ]
          },
          "metadata": {
            "tags": []
          },
          "execution_count": 15
        }
      ]
    },
    {
      "cell_type": "code",
      "metadata": {
        "id": "nsByp6OB_jdV",
        "colab_type": "code",
        "colab": {}
      },
      "source": [
        "# Perform Scaling.. Because there is a huge range difference between the inputs\n",
        "from sklearn.preprocessing import MinMaxScaler\n",
        "scaler = MinMaxScaler()\n",
        "x_train = scaler.fit_transform(x_train)\n",
        "x_test = scaler.transform(x_test)"
      ],
      "execution_count": null,
      "outputs": []
    },
    {
      "cell_type": "code",
      "metadata": {
        "id": "KXp6ZSmh_zS2",
        "colab_type": "code",
        "colab": {
          "base_uri": "https://localhost:8080/",
          "height": 1000
        },
        "outputId": "82e34d93-d2a6-4297-900c-f4666d9240b3"
      },
      "source": [
        "x_train"
      ],
      "execution_count": null,
      "outputs": [
        {
          "output_type": "execute_result",
          "data": {
            "text/plain": [
              "array([[0.61904762, 0.17777778],\n",
              "       [0.33333333, 0.77777778],\n",
              "       [0.47619048, 0.25925926],\n",
              "       [0.33333333, 0.88888889],\n",
              "       [0.80952381, 0.04444444],\n",
              "       [0.83333333, 0.65925926],\n",
              "       [0.5       , 0.2       ],\n",
              "       [0.47619048, 0.34074074],\n",
              "       [0.42857143, 0.25925926],\n",
              "       [0.42857143, 0.35555556],\n",
              "       [0.4047619 , 0.07407407],\n",
              "       [0.4047619 , 0.25925926],\n",
              "       [0.57142857, 0.42962963],\n",
              "       [0.69047619, 0.25185185],\n",
              "       [0.97619048, 0.1037037 ],\n",
              "       [0.73809524, 0.37037037],\n",
              "       [0.64285714, 0.85925926],\n",
              "       [0.30952381, 0.54814815],\n",
              "       [0.66666667, 0.4962963 ],\n",
              "       [0.69047619, 0.26666667],\n",
              "       [0.19047619, 0.        ],\n",
              "       [1.        , 0.64444444],\n",
              "       [0.47619048, 0.71851852],\n",
              "       [0.52380952, 0.68148148],\n",
              "       [0.57142857, 0.28148148],\n",
              "       [0.4047619 , 0.32592593],\n",
              "       [0.71428571, 0.19259259],\n",
              "       [0.71428571, 0.88148148],\n",
              "       [0.47619048, 0.72592593],\n",
              "       [0.26190476, 0.98518519],\n",
              "       [0.19047619, 0.        ],\n",
              "       [1.        , 0.2       ],\n",
              "       [0.14285714, 0.02962963],\n",
              "       [0.57142857, 0.99259259],\n",
              "       [0.66666667, 0.6       ],\n",
              "       [0.23809524, 0.32592593],\n",
              "       [0.5       , 0.6       ],\n",
              "       [0.23809524, 0.54814815],\n",
              "       [0.54761905, 0.42222222],\n",
              "       [0.64285714, 0.08148148],\n",
              "       [0.35714286, 0.4       ],\n",
              "       [0.04761905, 0.4962963 ],\n",
              "       [0.30952381, 0.43703704],\n",
              "       [0.57142857, 0.48148148],\n",
              "       [0.4047619 , 0.42222222],\n",
              "       [0.35714286, 0.99259259],\n",
              "       [0.52380952, 0.41481481],\n",
              "       [0.78571429, 0.97037037],\n",
              "       [0.66666667, 0.47407407],\n",
              "       [0.4047619 , 0.44444444],\n",
              "       [0.47619048, 0.26666667],\n",
              "       [0.42857143, 0.44444444],\n",
              "       [0.45238095, 0.46666667],\n",
              "       [0.47619048, 0.34074074],\n",
              "       [1.        , 0.68888889],\n",
              "       [0.04761905, 0.4962963 ],\n",
              "       [0.92857143, 0.43703704],\n",
              "       [0.57142857, 0.37037037],\n",
              "       [0.19047619, 0.48148148],\n",
              "       [0.66666667, 0.75555556],\n",
              "       [0.4047619 , 0.34074074],\n",
              "       [0.07142857, 0.39259259],\n",
              "       [0.23809524, 0.21481481],\n",
              "       [0.54761905, 0.53333333],\n",
              "       [0.45238095, 0.13333333],\n",
              "       [0.21428571, 0.55555556],\n",
              "       [0.5       , 0.2       ],\n",
              "       [0.23809524, 0.8       ],\n",
              "       [0.30952381, 0.76296296],\n",
              "       [0.16666667, 0.53333333],\n",
              "       [0.4047619 , 0.41481481],\n",
              "       [0.45238095, 0.40740741],\n",
              "       [0.4047619 , 0.17777778],\n",
              "       [0.69047619, 0.05925926],\n",
              "       [0.4047619 , 0.97777778],\n",
              "       [0.71428571, 0.91111111],\n",
              "       [0.19047619, 0.52592593],\n",
              "       [0.16666667, 0.47407407],\n",
              "       [0.80952381, 0.91111111],\n",
              "       [0.78571429, 0.05925926],\n",
              "       [0.4047619 , 0.33333333],\n",
              "       [0.35714286, 0.72592593],\n",
              "       [0.28571429, 0.68148148],\n",
              "       [0.71428571, 0.13333333],\n",
              "       [0.54761905, 0.48148148],\n",
              "       [0.71428571, 0.6       ],\n",
              "       [0.30952381, 0.02222222],\n",
              "       [0.30952381, 0.41481481],\n",
              "       [0.5952381 , 0.84444444],\n",
              "       [0.97619048, 0.45185185],\n",
              "       [0.        , 0.21481481],\n",
              "       [0.42857143, 0.76296296],\n",
              "       [0.57142857, 0.55555556],\n",
              "       [0.69047619, 0.11111111],\n",
              "       [0.19047619, 0.20740741],\n",
              "       [0.52380952, 0.46666667],\n",
              "       [0.66666667, 0.32592593],\n",
              "       [0.97619048, 0.2       ],\n",
              "       [0.66666667, 0.43703704],\n",
              "       [0.4047619 , 0.56296296],\n",
              "       [0.23809524, 0.32592593],\n",
              "       [0.52380952, 0.31111111],\n",
              "       [0.97619048, 0.94814815],\n",
              "       [0.92857143, 0.08148148],\n",
              "       [0.80952381, 0.17037037],\n",
              "       [0.69047619, 0.72592593],\n",
              "       [0.83333333, 0.94814815],\n",
              "       [0.4047619 , 0.08888889],\n",
              "       [0.95238095, 0.63703704],\n",
              "       [0.64285714, 0.22222222],\n",
              "       [0.11904762, 0.4962963 ],\n",
              "       [0.66666667, 0.05925926],\n",
              "       [0.57142857, 0.37037037],\n",
              "       [0.23809524, 0.51111111],\n",
              "       [0.47619048, 0.32592593],\n",
              "       [0.19047619, 0.51111111],\n",
              "       [0.26190476, 0.0962963 ],\n",
              "       [0.45238095, 0.41481481],\n",
              "       [0.0952381 , 0.2962963 ],\n",
              "       [0.71428571, 0.14814815],\n",
              "       [0.73809524, 0.0962963 ],\n",
              "       [0.47619048, 0.37037037],\n",
              "       [0.21428571, 0.01481481],\n",
              "       [0.66666667, 0.0962963 ],\n",
              "       [0.71428571, 0.93333333],\n",
              "       [0.19047619, 0.01481481],\n",
              "       [0.4047619 , 0.60740741],\n",
              "       [0.5       , 0.32592593],\n",
              "       [0.14285714, 0.08888889],\n",
              "       [0.33333333, 0.02222222],\n",
              "       [0.66666667, 0.54074074],\n",
              "       [0.4047619 , 0.31851852],\n",
              "       [0.9047619 , 0.33333333],\n",
              "       [0.69047619, 0.14074074],\n",
              "       [0.52380952, 0.42222222],\n",
              "       [0.33333333, 0.62962963],\n",
              "       [0.02380952, 0.04444444],\n",
              "       [0.16666667, 0.55555556],\n",
              "       [0.4047619 , 0.54074074],\n",
              "       [0.23809524, 0.12592593],\n",
              "       [0.76190476, 0.03703704],\n",
              "       [0.52380952, 0.32592593],\n",
              "       [0.76190476, 0.21481481],\n",
              "       [0.4047619 , 0.42222222],\n",
              "       [0.52380952, 0.94074074],\n",
              "       [0.66666667, 0.12592593],\n",
              "       [0.5       , 0.41481481],\n",
              "       [0.04761905, 0.43703704],\n",
              "       [0.26190476, 0.44444444],\n",
              "       [0.30952381, 0.45185185],\n",
              "       [0.69047619, 0.07407407],\n",
              "       [0.52380952, 0.34074074],\n",
              "       [0.38095238, 0.71851852],\n",
              "       [0.47619048, 0.48148148],\n",
              "       [0.57142857, 0.44444444],\n",
              "       [0.69047619, 0.23703704],\n",
              "       [0.5       , 0.44444444],\n",
              "       [0.02380952, 0.07407407],\n",
              "       [0.45238095, 0.48148148],\n",
              "       [0.42857143, 0.33333333],\n",
              "       [0.54761905, 0.27407407],\n",
              "       [0.42857143, 0.81481481],\n",
              "       [0.71428571, 0.1037037 ],\n",
              "       [0.42857143, 0.82222222],\n",
              "       [0.78571429, 0.88148148],\n",
              "       [0.21428571, 0.31111111],\n",
              "       [0.47619048, 0.41481481],\n",
              "       [0.5       , 0.34074074],\n",
              "       [0.0952381 , 0.08888889],\n",
              "       [0.35714286, 0.33333333],\n",
              "       [0.71428571, 0.43703704],\n",
              "       [0.95238095, 0.05925926],\n",
              "       [0.83333333, 0.42222222],\n",
              "       [0.33333333, 0.75555556],\n",
              "       [0.85714286, 0.40740741],\n",
              "       [0.28571429, 0.48148148],\n",
              "       [0.95238095, 0.59259259],\n",
              "       [0.19047619, 0.27407407],\n",
              "       [0.64285714, 0.47407407],\n",
              "       [0.14285714, 0.2962963 ],\n",
              "       [0.52380952, 0.44444444],\n",
              "       [0.35714286, 0.0962963 ],\n",
              "       [0.61904762, 0.91851852],\n",
              "       [0.0952381 , 0.02222222],\n",
              "       [0.35714286, 0.26666667],\n",
              "       [0.5952381 , 0.87407407],\n",
              "       [0.14285714, 0.12592593],\n",
              "       [0.66666667, 0.05185185],\n",
              "       [0.4047619 , 0.2962963 ],\n",
              "       [0.85714286, 0.65925926],\n",
              "       [0.71428571, 0.77037037],\n",
              "       [0.4047619 , 0.28148148],\n",
              "       [0.45238095, 0.95555556],\n",
              "       [0.11904762, 0.37777778],\n",
              "       [0.45238095, 0.9037037 ],\n",
              "       [0.30952381, 0.31851852],\n",
              "       [0.35714286, 0.19259259],\n",
              "       [0.64285714, 0.05185185],\n",
              "       [0.28571429, 0.        ],\n",
              "       [0.02380952, 0.02962963],\n",
              "       [0.73809524, 0.43703704],\n",
              "       [0.5       , 0.79259259],\n",
              "       [0.4047619 , 0.42962963],\n",
              "       [0.5       , 0.41481481],\n",
              "       [0.14285714, 0.05925926],\n",
              "       [0.54761905, 0.42222222],\n",
              "       [0.26190476, 0.5037037 ],\n",
              "       [0.85714286, 0.08148148],\n",
              "       [0.4047619 , 0.21481481],\n",
              "       [0.45238095, 0.44444444],\n",
              "       [0.26190476, 0.23703704],\n",
              "       [0.30952381, 0.39259259],\n",
              "       [0.57142857, 0.28888889],\n",
              "       [0.28571429, 0.88888889],\n",
              "       [0.80952381, 0.73333333],\n",
              "       [0.76190476, 0.15555556],\n",
              "       [0.9047619 , 0.87407407],\n",
              "       [0.26190476, 0.34074074],\n",
              "       [0.28571429, 0.54814815],\n",
              "       [0.19047619, 0.00740741],\n",
              "       [0.35714286, 0.11851852],\n",
              "       [0.54761905, 0.42222222],\n",
              "       [0.42857143, 0.13333333],\n",
              "       [0.88095238, 0.81481481],\n",
              "       [0.71428571, 0.85925926],\n",
              "       [0.54761905, 0.41481481],\n",
              "       [0.28571429, 0.34814815],\n",
              "       [0.45238095, 0.42222222],\n",
              "       [0.54761905, 0.35555556],\n",
              "       [0.95238095, 0.23703704],\n",
              "       [0.28571429, 0.74814815],\n",
              "       [0.04761905, 0.25185185],\n",
              "       [0.45238095, 0.43703704],\n",
              "       [0.54761905, 0.32592593],\n",
              "       [0.73809524, 0.54814815],\n",
              "       [0.23809524, 0.47407407],\n",
              "       [0.83333333, 0.4962963 ],\n",
              "       [0.52380952, 0.31111111],\n",
              "       [1.        , 0.14074074],\n",
              "       [0.4047619 , 0.68888889],\n",
              "       [0.07142857, 0.42222222],\n",
              "       [0.47619048, 0.41481481],\n",
              "       [0.5       , 0.67407407],\n",
              "       [0.45238095, 0.31111111],\n",
              "       [0.19047619, 0.42222222],\n",
              "       [0.4047619 , 0.05925926],\n",
              "       [0.85714286, 0.68888889],\n",
              "       [0.28571429, 0.01481481],\n",
              "       [0.5       , 0.88148148],\n",
              "       [0.26190476, 0.20740741],\n",
              "       [0.35714286, 0.20740741],\n",
              "       [0.4047619 , 0.17037037],\n",
              "       [0.54761905, 0.22222222],\n",
              "       [0.54761905, 0.42222222],\n",
              "       [0.5       , 0.88148148],\n",
              "       [0.21428571, 0.9037037 ],\n",
              "       [0.07142857, 0.00740741],\n",
              "       [0.19047619, 0.12592593],\n",
              "       [0.30952381, 0.37777778],\n",
              "       [0.5       , 0.42962963],\n",
              "       [0.54761905, 0.47407407],\n",
              "       [0.69047619, 0.25925926],\n",
              "       [0.54761905, 0.11111111],\n",
              "       [0.45238095, 0.57777778],\n",
              "       [1.        , 0.22962963],\n",
              "       [0.16666667, 0.05185185],\n",
              "       [0.23809524, 0.16296296],\n",
              "       [0.47619048, 0.2962963 ],\n",
              "       [0.42857143, 0.28888889],\n",
              "       [0.04761905, 0.15555556],\n",
              "       [0.9047619 , 0.65925926],\n",
              "       [0.52380952, 0.31111111],\n",
              "       [0.57142857, 0.68888889],\n",
              "       [0.04761905, 0.05925926],\n",
              "       [0.52380952, 0.37037037],\n",
              "       [0.69047619, 0.03703704],\n",
              "       [0.        , 0.52592593],\n",
              "       [0.4047619 , 0.47407407],\n",
              "       [0.92857143, 0.13333333],\n",
              "       [0.38095238, 0.42222222],\n",
              "       [0.73809524, 0.17777778],\n",
              "       [0.21428571, 0.11851852],\n",
              "       [0.02380952, 0.40740741],\n",
              "       [0.5       , 0.47407407],\n",
              "       [0.19047619, 0.48888889],\n",
              "       [0.16666667, 0.48148148],\n",
              "       [0.23809524, 0.51851852],\n",
              "       [0.88095238, 0.17777778],\n",
              "       [0.76190476, 0.54074074],\n",
              "       [0.73809524, 0.54074074],\n",
              "       [0.80952381, 1.        ],\n",
              "       [0.4047619 , 0.37037037],\n",
              "       [0.57142857, 0.28888889],\n",
              "       [0.38095238, 0.20740741],\n",
              "       [0.45238095, 0.27407407],\n",
              "       [0.71428571, 0.11111111],\n",
              "       [0.26190476, 0.20740741],\n",
              "       [0.42857143, 0.27407407],\n",
              "       [0.21428571, 0.28888889],\n",
              "       [0.19047619, 0.76296296]])"
            ]
          },
          "metadata": {
            "tags": []
          },
          "execution_count": 18
        }
      ]
    },
    {
      "cell_type": "code",
      "metadata": {
        "id": "VnC9lqvo_5m7",
        "colab_type": "code",
        "colab": {
          "base_uri": "https://localhost:8080/",
          "height": 36
        },
        "outputId": "4ad214f1-13ed-452f-d37b-80f5a1a8a59f"
      },
      "source": [
        "np.sqrt(x_train.shape[0])"
      ],
      "execution_count": null,
      "outputs": [
        {
          "output_type": "execute_result",
          "data": {
            "text/plain": [
              "17.320508075688775"
            ]
          },
          "metadata": {
            "tags": []
          },
          "execution_count": 19
        }
      ]
    },
    {
      "cell_type": "code",
      "metadata": {
        "id": "QIzKMOT-Ao2s",
        "colab_type": "code",
        "colab": {}
      },
      "source": [
        "k=17"
      ],
      "execution_count": null,
      "outputs": []
    },
    {
      "cell_type": "code",
      "metadata": {
        "id": "fRrzLs_5A_7r",
        "colab_type": "code",
        "colab": {}
      },
      "source": [
        "# Fitting the knn classifier to the Training set\n",
        "from sklearn.neighbors import KNeighborsClassifier\n",
        "model = KNeighborsClassifier(n_neighbors=k)\n",
        "model.fit(x_train,y_train)\n",
        "y_pred = model.predict(x_test)"
      ],
      "execution_count": null,
      "outputs": []
    },
    {
      "cell_type": "code",
      "metadata": {
        "id": "B7wkBm9sBDJg",
        "colab_type": "code",
        "colab": {
          "base_uri": "https://localhost:8080/",
          "height": 111
        },
        "outputId": "b8749c79-aa10-4a48-af0f-e2e76c2fdca5"
      },
      "source": [
        "y_pred # Predicted Output"
      ],
      "execution_count": null,
      "outputs": [
        {
          "output_type": "execute_result",
          "data": {
            "text/plain": [
              "array([0, 0, 0, 0, 0, 0, 0, 1, 0, 1, 0, 0, 0, 0, 0, 1, 0, 0, 1, 0, 0, 1,\n",
              "       0, 1, 0, 1, 0, 0, 0, 0, 0, 0, 1, 0, 0, 0, 0, 0, 0, 1, 0, 0, 0, 0,\n",
              "       1, 0, 0, 1, 0, 1, 1, 0, 0, 1, 1, 1, 0, 0, 1, 0, 0, 1, 0, 1, 0, 1,\n",
              "       0, 0, 0, 0, 1, 0, 0, 1, 0, 0, 0, 0, 1, 1, 1, 1, 0, 0, 1, 0, 0, 1,\n",
              "       1, 0, 0, 1, 0, 0, 0, 0, 0, 1, 1, 1])"
            ]
          },
          "metadata": {
            "tags": []
          },
          "execution_count": 23
        }
      ]
    },
    {
      "cell_type": "code",
      "metadata": {
        "id": "wkOGg_cVBdqg",
        "colab_type": "code",
        "colab": {
          "base_uri": "https://localhost:8080/",
          "height": 111
        },
        "outputId": "147c03fc-ed93-4dcd-8ecc-287437757c63"
      },
      "source": [
        "y_test # Real Output"
      ],
      "execution_count": null,
      "outputs": [
        {
          "output_type": "execute_result",
          "data": {
            "text/plain": [
              "array([0, 0, 0, 0, 0, 0, 0, 1, 0, 0, 0, 0, 0, 0, 0, 0, 0, 0, 1, 0, 0, 1,\n",
              "       0, 1, 0, 1, 0, 0, 0, 0, 0, 1, 1, 0, 0, 0, 0, 0, 0, 1, 0, 0, 0, 0,\n",
              "       1, 0, 0, 1, 0, 1, 1, 0, 0, 0, 1, 1, 0, 0, 1, 0, 0, 1, 0, 1, 0, 1,\n",
              "       0, 0, 0, 0, 1, 0, 0, 1, 0, 0, 0, 0, 1, 1, 1, 0, 0, 0, 1, 1, 0, 1,\n",
              "       1, 0, 0, 1, 0, 0, 0, 1, 0, 1, 1, 1])"
            ]
          },
          "metadata": {
            "tags": []
          },
          "execution_count": 24
        }
      ]
    },
    {
      "cell_type": "code",
      "metadata": {
        "id": "OYR7IxvwBgAy",
        "colab_type": "code",
        "colab": {
          "base_uri": "https://localhost:8080/",
          "height": 36
        },
        "outputId": "7b9ddb2d-4e16-40b1-847e-f2e1303eda74"
      },
      "source": [
        "#Checking the Accuracy Score\n",
        "from sklearn.metrics import accuracy_score\n",
        "accuracy_score(y_test,y_pred)*100"
      ],
      "execution_count": null,
      "outputs": [
        {
          "output_type": "execute_result",
          "data": {
            "text/plain": [
              "93.0"
            ]
          },
          "metadata": {
            "tags": []
          },
          "execution_count": 25
        }
      ]
    },
    {
      "cell_type": "code",
      "metadata": {
        "id": "9FOVvrUJBx7z",
        "colab_type": "code",
        "colab": {
          "base_uri": "https://localhost:8080/",
          "height": 54
        },
        "outputId": "c42887bb-aa18-4675-fbc2-8948bb74805a"
      },
      "source": [
        "#Confusion matrix\n",
        "from sklearn.metrics import confusion_matrix\n",
        "confusion_matrix(y_test,y_pred)"
      ],
      "execution_count": null,
      "outputs": [
        {
          "output_type": "execute_result",
          "data": {
            "text/plain": [
              "array([[64,  4],\n",
              "       [ 3, 29]])"
            ]
          },
          "metadata": {
            "tags": []
          },
          "execution_count": 27
        }
      ]
    },
    {
      "cell_type": "code",
      "metadata": {
        "id": "mDOAB2XeB3OS",
        "colab_type": "code",
        "colab": {
          "base_uri": "https://localhost:8080/",
          "height": 36
        },
        "outputId": "58b4d023-eaed-44d7-f62c-35998e1f22ba"
      },
      "source": [
        "(64+29)/(64+4+3+29)*100"
      ],
      "execution_count": null,
      "outputs": [
        {
          "output_type": "execute_result",
          "data": {
            "text/plain": [
              "93.0"
            ]
          },
          "metadata": {
            "tags": []
          },
          "execution_count": 29
        }
      ]
    },
    {
      "cell_type": "code",
      "metadata": {
        "id": "qPFYEBHmCArq",
        "colab_type": "code",
        "colab": {
          "base_uri": "https://localhost:8080/",
          "height": 186
        },
        "outputId": "f177d8d8-5110-4a7f-e257-4621804b52fb"
      },
      "source": [
        "from sklearn.metrics import classification_report\n",
        "print(classification_report(y_test,y_pred))"
      ],
      "execution_count": null,
      "outputs": [
        {
          "output_type": "stream",
          "text": [
            "              precision    recall  f1-score   support\n",
            "\n",
            "           0       0.96      0.94      0.95        68\n",
            "           1       0.88      0.91      0.89        32\n",
            "\n",
            "    accuracy                           0.93       100\n",
            "   macro avg       0.92      0.92      0.92       100\n",
            "weighted avg       0.93      0.93      0.93       100\n",
            "\n"
          ],
          "name": "stdout"
        }
      ]
    },
    {
      "cell_type": "code",
      "metadata": {
        "id": "mxQiKD2hCF9K",
        "colab_type": "code",
        "colab": {
          "base_uri": "https://localhost:8080/",
          "height": 36
        },
        "outputId": "6ccddec1-9a13-48a5-b25e-9d0c96e5b069"
      },
      "source": [
        "# Checking with random data in the dataset\n",
        "y1 = scaler.transform([[51,23000]])\n",
        "y1 = model.predict(y1)\n",
        "y1"
      ],
      "execution_count": null,
      "outputs": [
        {
          "output_type": "execute_result",
          "data": {
            "text/plain": [
              "array([1])"
            ]
          },
          "metadata": {
            "tags": []
          },
          "execution_count": 32
        }
      ]
    },
    {
      "cell_type": "code",
      "metadata": {
        "id": "yLA3uJUbCbK6",
        "colab_type": "code",
        "colab": {}
      },
      "source": [
        ""
      ],
      "execution_count": null,
      "outputs": []
    }
  ]
}